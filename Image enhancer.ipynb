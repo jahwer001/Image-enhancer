{
 "cells": [
  {
   "cell_type": "code",
   "execution_count": null,
   "id": "c14dd74c",
   "metadata": {},
   "outputs": [],
   "source": [
    "import os\n",
    "from PIL import Image, ImageEnhance\n",
    "\n",
    "def enhance_image(image, sharpness_factor=2.0, brightness_factor=1.2, contrast_factor=1.5, color_factor=1.3):\n",
    "    # Enhance Sharpness\n",
    "    enhancer = ImageEnhance.Sharpness(image)\n",
    "    image = enhancer.enhance(sharpness_factor)\n",
    "\n",
    "    # Enhance Brightness\n",
    "    enhancer = ImageEnhance.Brightness(image)\n",
    "    image = enhancer.enhance(brightness_factor)\n",
    "\n",
    "    # Enhance Contrast\n",
    "    enhancer = ImageEnhance.Contrast(image)\n",
    "    image = enhancer.enhance(contrast_factor)\n",
    "\n",
    "    # Enhance Color\n",
    "    enhancer = ImageEnhance.Color(image)\n",
    "    image = enhancer.enhance(color_factor)\n",
    "\n",
    "    return image\n",
    "\n",
    "def enhance_images_in_folder(input_folder, output_folder):\n",
    "    if not os.path.exists(output_folder):\n",
    "        os.makedirs(output_folder)\n",
    "    for filename in os.listdir(input_folder):\n",
    "        if filename.lower().endswith('.jpg'):\n",
    "            input_path = os.path.join(input_folder, filename)\n",
    "            output_path = os.path.join(output_folder, filename)\n",
    "\n",
    "            print(f\"Enhancing {filename}...\")\n",
    "            image = Image.open(input_path)\n",
    "            enhanced_image = enhance_image(image)\n",
    "            enhanced_image.save(output_path)\n",
    "\n",
    "    print(f\"All images have been enhanced and saved to '{output_folder}'.\")\n",
    "\n",
    "if __name__ == \"__main__\":\n",
    "    input_folder = r\"C:\\path\\to\\your\\input\\folder\"\n",
    "    output_folder = r\"C:\\path\\to\\your\\output\\folder\"\n",
    "\n",
    "    enhance_images_in_folder(input_folder, output_folder)\n"
   ]
  }
 ],
 "metadata": {
  "kernelspec": {
   "display_name": "Python 3 (ipykernel)",
   "language": "python",
   "name": "python3"
  },
  "language_info": {
   "codemirror_mode": {
    "name": "ipython",
    "version": 3
   },
   "file_extension": ".py",
   "mimetype": "text/x-python",
   "name": "python",
   "nbconvert_exporter": "python",
   "pygments_lexer": "ipython3",
   "version": "3.9.13"
  }
 },
 "nbformat": 4,
 "nbformat_minor": 5
}
